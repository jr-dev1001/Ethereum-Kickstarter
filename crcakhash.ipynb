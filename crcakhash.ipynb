{
 "cells": [
  {
   "cell_type": "markdown",
   "metadata": {},
   "source": [
    "## TryHackMe - CrackTheHash"
   ]
  },
  {
   "cell_type": "markdown",
   "metadata": {},
   "source": [
    "#### For this task I used `cyber chef`,`rockyou.txt` and `hashcat`. Also got the badge [Hash Cracker](https://tryhackme.com/Jrdev1001/badges/hash-cracker) 😅"
   ]
  },
  {
   "cell_type": "code",
   "execution_count": 5,
   "metadata": {},
   "outputs": [
    {
     "name": "stdout",
     "output_type": "stream",
     "text": [
      "✅ Password found: 481616481616\n"
     ]
    }
   ],
   "source": [
    "# how can we crack hash in python a demo \n",
    "import hashlib\n",
    "import hmac\n",
    "\n",
    "hash_to_crack = \"e5d8870e5bdd26602cab8dbe07a942c8669e56d6\"\n",
    "salt = b\"tryhackme\"  # Convert salt to bytes - leave the salt empty if anything is not required\n",
    "\n",
    "with open(\"rockyou.txt\", \"r\", encoding=\"latin-1\") as wordlist:\n",
    "    for password in wordlist:\n",
    "        password = password.strip().encode()  # Convert password to bytes\n",
    "        hashed = hmac.new(salt, password, hashlib.sha1).hexdigest()  # Correct HMAC-SHA1 hashing\n",
    "\n",
    "        if hashed == hash_to_crack:\n",
    "            print(f\"✅ Password found: {password.decode()}\")\n",
    "            break\n",
    "    else:\n",
    "        print(\"❌ Password not found\")"
   ]
  }
 ],
 "metadata": {
  "kernelspec": {
   "display_name": "Python 3",
   "language": "python",
   "name": "python3"
  },
  "language_info": {
   "codemirror_mode": {
    "name": "ipython",
    "version": 3
   },
   "file_extension": ".py",
   "mimetype": "text/x-python",
   "name": "python",
   "nbconvert_exporter": "python",
   "pygments_lexer": "ipython3",
   "version": "3.12.5"
  }
 },
 "nbformat": 4,
 "nbformat_minor": 2
}
